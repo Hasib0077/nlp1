{
  "nbformat": 4,
  "nbformat_minor": 0,
  "metadata": {
    "colab": {
      "provenance": [],
      "authorship_tag": "ABX9TyOERBZIWvdP9Okz0SakTwok",
      "include_colab_link": true
    },
    "kernelspec": {
      "name": "python3",
      "display_name": "Python 3"
    },
    "language_info": {
      "name": "python"
    }
  },
  "cells": [
    {
      "cell_type": "markdown",
      "metadata": {
        "id": "view-in-github",
        "colab_type": "text"
      },
      "source": [
        "<a href=\"https://colab.research.google.com/github/Hasib0077/nlp1/blob/main/zero_shot.ipynb\" target=\"_parent\"><img src=\"https://colab.research.google.com/assets/colab-badge.svg\" alt=\"Open In Colab\"/></a>"
      ]
    },
    {
      "cell_type": "code",
      "execution_count": 4,
      "metadata": {
        "colab": {
          "base_uri": "https://localhost:8080/"
        },
        "id": "JNmmN_MX5jTY",
        "outputId": "3621fb64-4207-4e69-a439-0d4d7f52733e"
      },
      "outputs": [
        {
          "output_type": "stream",
          "name": "stderr",
          "text": [
            "No model was supplied, defaulted to facebook/bart-large-mnli and revision c626438 (https://huggingface.co/facebook/bart-large-mnli).\n",
            "Using a pipeline without specifying a model name and revision in production is not recommended.\n"
          ]
        },
        {
          "output_type": "execute_result",
          "data": {
            "text/plain": [
              "{'sequence': 'kill him he is one of the best soldier',\n",
              " 'labels': ['war', 'business', 'politics', 'education'],\n",
              " 'scores': [0.8779808878898621,\n",
              "  0.08239147812128067,\n",
              "  0.022702794522047043,\n",
              "  0.01692480966448784]}"
            ]
          },
          "metadata": {},
          "execution_count": 4
        }
      ],
      "source": [
        "from transformers import pipeline\n",
        "classifier=pipeline(\"zero-shot-classification\")\n",
        "classifier(\n",
        "    \"kill him he is one of the best soldier\",\n",
        "    candidate_labels=[\"education\", \"politics\", \"business\",\"war\"],\n",
        "\n",
        ")\n"
      ]
    },
    {
      "cell_type": "markdown",
      "source": [],
      "metadata": {
        "id": "Pwm-I3c26tBe"
      }
    },
    {
      "cell_type": "markdown",
      "source": [],
      "metadata": {
        "id": "UlQfzSwE6sZH"
      }
    }
  ]
}